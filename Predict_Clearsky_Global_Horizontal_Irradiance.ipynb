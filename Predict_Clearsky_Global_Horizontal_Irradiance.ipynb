{
  "nbformat": 4,
  "nbformat_minor": 0,
  "metadata": {
    "colab": {
      "name": "Predict-Clearsky-Global-Horizontal-Irradiance.ipynb",
      "provenance": [],
      "collapsed_sections": [],
      "authorship_tag": "ABX9TyPctwWMosWROKvYLIw5mN5A",
      "include_colab_link": true
    },
    "kernelspec": {
      "name": "python3",
      "display_name": "Python 3"
    },
    "language_info": {
      "name": "python"
    }
  },
  "cells": [
    {
      "cell_type": "markdown",
      "metadata": {
        "id": "view-in-github",
        "colab_type": "text"
      },
      "source": [
        "<a href=\"https://colab.research.google.com/github/sujatasahoo/Predict-Clearsky-Global-Horizontal-Irradiance/blob/main/Predict_Clearsky_Global_Horizontal_Irradiance.ipynb\" target=\"_parent\"><img src=\"https://colab.research.google.com/assets/colab-badge.svg\" alt=\"Open In Colab\"/></a>"
      ]
    },
    {
      "cell_type": "markdown",
      "source": [
        "\n",
        "# **Introduction**\n",
        "\n",
        "**To predict clearsky global horizontal irradiance(GHI).**\n",
        "\n",
        "Solar irradiance represents the power from the sun that reaches a surface per unit area in the form of electromagnetic radiation. Direct irradiance is the part of the solar irradiance that directly reaches a surface; diffuse irradiance is the part that is scattered by the atmosphere; global irradiance is the sum of both diffuse and direct components reaching the same surface.\n",
        "\n",
        "Global Horizontal Irradiation/Irradiance (GHI) is the sum of direct and diffuse radiation received on a horizontal plane. GHI is a reference radiation for the comparison of climatic zones; it is also essential parameter for calculation of radiation on a tilted plane.\n",
        "\n",
        "GHI: Global Horizontal Irradiation\n",
        "\n",
        "DNI: Direct Normal Irradiation\n",
        "\n",
        "DHI: Diffuse Horizontal Irradiation\n",
        "\n",
        "Global Horizontal Irradiance (GHI) = Direct Normal Irradiance (DNI)* cos(solar zenith angle) + Diffused Horizontal Irradiance (DHI)\n",
        "\n",
        "GHI = DNI*cosθ + DHI\n",
        "\n",
        "GHI and DHI are referred to a surface horizontal to the ground, while DNI is referred to a surface perpendicular to the Sun. Higher values of DHI/GHI ratio represent a higher occurrence of clouds, higher atmospheric pollution or higher water vapor content.\n",
        "\n",
        "Zenith Angle : The angle between the horizontal and the center of the sun's disk is know as zenith angle\n"
      ],
      "metadata": {
        "id": "F4POZ_5pYo5x"
      }
    },
    {
      "cell_type": "markdown",
      "source": [
        "Data Attributes:‘Year',\n",
        "'Month',\n",
        "'Day',\n",
        "'Hour',\n",
        "'Minute',\n",
        "'Temperature', 0C\n",
        "\n",
        "'Clearsky DHI', w/m2\n",
        "'Clearsky DNI', w/m2\n",
        "'Clearsky GHI', w/m2\n",
        "\n",
        "'Cloud Type',\n",
        "    Cloud Type 0    Clear\n",
        "    Cloud Type 1    Probably Clear\n",
        "    Cloud Type 2    Fog\n",
        "    Cloud Type 3    Water\n",
        "    Cloud Type 4    Super-Cooled Water\n",
        "    Cloud Type 5    Mixed\n",
        "    Cloud Type 6    Opaque Ice\n",
        "    Cloud Type 7    Cirrus\n",
        "    Cloud Type 8    Overlapping\n",
        "    Cloud Type 9    Overshooting\n",
        "    Cloud Type 10    Unknown\n",
        "    Cloud Type 11    Dust\n",
        "    Cloud Type 12    Smoke\n",
        "    Cloud Type -15    N/A\n",
        "'Dew Point', C\n",
        "'Fill Flag',\n",
        "    Fill Flag 0    N/A\n",
        "    Fill Flag 1    Missing Image\n",
        "    Fill Flag 2    Low Irradiance\n",
        "    Fill Flag 3    Exceeds Clearsky\n",
        "    Fill Flag 4    Missing CLoud Properties\n",
        "    Fill Flag 5    Rayleigh Violation\n",
        "    Fill Flag any   N/A\n",
        "\n",
        "'Relative Humidity', %\n",
        "\n",
        "'Solar Zenith Angle', Degree to calculate cos(θ)\n",
        "'Surface Albedo', flux per unit area\n",
        "\n",
        "'Pressure', mbar\n",
        "'Precipitable Water', cm\n",
        "\n",
        "'Wind Direction', Degrees\n",
        "'Wind Speed' m/s"
      ],
      "metadata": {
        "id": "UFfkhyDwTIbQ"
      }
    },
    {
      "cell_type": "markdown",
      "source": [
        "This is a regression problem."
      ],
      "metadata": {
        "id": "S1o5o77JPaZK"
      }
    },
    {
      "cell_type": "markdown",
      "source": [
        "# **I. Wrangle Data**"
      ],
      "metadata": {
        "id": "xaWnC8MkXUrv"
      }
    },
    {
      "cell_type": "code",
      "source": [
        "%%capture\n",
        "import sys\n",
        "!pip install category_encoders==2.*\n",
        "!pip install pdpbox\n",
        "!pip install shap"
      ],
      "metadata": {
        "id": "vzYf2wz_8pnA"
      },
      "execution_count": null,
      "outputs": []
    },
    {
      "cell_type": "code",
      "source": [
        "directory = '/content/gdrive/MyDrive/ClearskyGHIdataset'"
      ],
      "metadata": {
        "id": "ud3IxDdmDgox"
      },
      "execution_count": null,
      "outputs": []
    },
    {
      "cell_type": "code",
      "execution_count": null,
      "metadata": {
        "id": "kabhUtbS3IO9",
        "colab": {
          "base_uri": "https://localhost:8080/"
        },
        "outputId": "83ec45a4-8169-4f46-99a3-617d117dea0f"
      },
      "outputs": [
        {
          "output_type": "stream",
          "name": "stdout",
          "text": [
            "Mounted at /content/gdrive\n"
          ]
        }
      ],
      "source": [
        "# mounting your google drive on colab\n",
        "from google.colab import drive\n",
        "drive.mount('/content/gdrive')"
      ]
    },
    {
      "cell_type": "code",
      "source": [
        "\n",
        "from sklearn.model_selection import train_test_split\n",
        "from sklearn.linear_model import LinearRegression, Ridge\n",
        "from sklearn.metrics import mean_absolute_error, mean_squared_error\n",
        "from sklearn.ensemble import RandomForestRegressor\n",
        "from sklearn.impute import SimpleImputer\n",
        "from sklearn.preprocessing import StandardScaler\n",
        "from sklearn.pipeline import make_pipeline\n",
        "from category_encoders import OrdinalEncoder\n",
        "from xgboost import XGBRegressor\n",
        "from category_encoders import OneHotEncoder\n",
        "from sklearn.inspection import permutation_importance \n",
        "from pdpbox.pdp import pdp_isolate, pdp_plot, pdp_interact, pdp_interact_plot\n",
        "import warnings\n",
        "warnings.filterwarnings(action='ignore', category=FutureWarning, module='xgboost')\n",
        "import shap\n",
        "import numpy as np\n",
        "import pandas as pd\n",
        "import matplotlib.pyplot as plt\n"
      ],
      "metadata": {
        "id": "IeEzeFss4yE1",
        "colab": {
          "base_uri": "https://localhost:8080/"
        },
        "outputId": "78bc6cb8-7251-4494-cf95-26f05fb4548f"
      },
      "execution_count": null,
      "outputs": [
        {
          "output_type": "stream",
          "name": "stderr",
          "text": [
            "/usr/local/lib/python3.7/dist-packages/statsmodels/tools/_testing.py:19: FutureWarning: pandas.util.testing is deprecated. Use the functions in the public API at pandas.testing instead.\n",
            "  import pandas.util.testing as tm\n"
          ]
        }
      ]
    },
    {
      "cell_type": "code",
      "source": [
        "data = directory+'/train.csv'\n",
        "df = pd.read_csv(data)\n",
        "def wrangle(filepath):\n",
        "  df = pd.read_csv(filepath)\n",
        "  df['datetime'] = pd.to_datetime(df[['Year', 'Month', 'Day','Minute']])\n",
        "  #set the index to \n",
        "  df.set_index('datetime', inplace = True)\n",
        "\n",
        "  # Drop Constant Column\n",
        "  df.columns = df.columns.str.lower().str.replace(' ', '')\n",
        "  # Drop Duplicate Column\n",
        "  \n",
        "  # Drop High Cardinality Columns\n",
        "  \n",
        "  # Drop columns with high proportion of null values\n",
        "  \n",
        "  df = df.drop(columns=['day', 'hour','minute'])\n",
        "                      \n",
        "  df = df.fillna(0)\n",
        "  df = df.drop(columns=['clearskydhi','clearskydni','solarzenithangle'])\n",
        "  return df\n",
        "\n",
        "filepath = data\n",
        "df = wrangle(filepath)\n",
        "\n",
        "df.head()"
      ],
      "metadata": {
        "colab": {
          "base_uri": "https://localhost:8080/",
          "height": 475
        },
        "id": "pVjKPZijPQe2",
        "outputId": "6276381d-b46e-40fc-a5de-60536bab2c96"
      },
      "execution_count": null,
      "outputs": [
        {
          "output_type": "execute_result",
          "data": {
            "text/html": [
              "\n",
              "  <div id=\"df-7f5b2bb3-a629-461a-a063-049975707b35\">\n",
              "    <div class=\"colab-df-container\">\n",
              "      <div>\n",
              "<style scoped>\n",
              "    .dataframe tbody tr th:only-of-type {\n",
              "        vertical-align: middle;\n",
              "    }\n",
              "\n",
              "    .dataframe tbody tr th {\n",
              "        vertical-align: top;\n",
              "    }\n",
              "\n",
              "    .dataframe thead th {\n",
              "        text-align: right;\n",
              "    }\n",
              "</style>\n",
              "<table border=\"1\" class=\"dataframe\">\n",
              "  <thead>\n",
              "    <tr style=\"text-align: right;\">\n",
              "      <th></th>\n",
              "      <th>year</th>\n",
              "      <th>month</th>\n",
              "      <th>clearskyghi</th>\n",
              "      <th>cloudtype</th>\n",
              "      <th>dewpoint</th>\n",
              "      <th>temperature</th>\n",
              "      <th>pressure</th>\n",
              "      <th>relativehumidity</th>\n",
              "      <th>precipitablewater</th>\n",
              "      <th>winddirection</th>\n",
              "      <th>windspeed</th>\n",
              "      <th>fillflag</th>\n",
              "    </tr>\n",
              "    <tr>\n",
              "      <th>datetime</th>\n",
              "      <th></th>\n",
              "      <th></th>\n",
              "      <th></th>\n",
              "      <th></th>\n",
              "      <th></th>\n",
              "      <th></th>\n",
              "      <th></th>\n",
              "      <th></th>\n",
              "      <th></th>\n",
              "      <th></th>\n",
              "      <th></th>\n",
              "      <th></th>\n",
              "    </tr>\n",
              "  </thead>\n",
              "  <tbody>\n",
              "    <tr>\n",
              "      <th>2009-01-01 00:00:00</th>\n",
              "      <td>2009</td>\n",
              "      <td>1</td>\n",
              "      <td>0</td>\n",
              "      <td>0</td>\n",
              "      <td>0.0</td>\n",
              "      <td>5.0</td>\n",
              "      <td>1010</td>\n",
              "      <td>75.34</td>\n",
              "      <td>0.499</td>\n",
              "      <td>346.1</td>\n",
              "      <td>3.1</td>\n",
              "      <td>0</td>\n",
              "    </tr>\n",
              "    <tr>\n",
              "      <th>2009-01-01 00:30:00</th>\n",
              "      <td>2009</td>\n",
              "      <td>1</td>\n",
              "      <td>0</td>\n",
              "      <td>0</td>\n",
              "      <td>1.0</td>\n",
              "      <td>5.0</td>\n",
              "      <td>1010</td>\n",
              "      <td>80.81</td>\n",
              "      <td>0.490</td>\n",
              "      <td>346.1</td>\n",
              "      <td>3.1</td>\n",
              "      <td>0</td>\n",
              "    </tr>\n",
              "    <tr>\n",
              "      <th>2009-01-01 00:00:00</th>\n",
              "      <td>2009</td>\n",
              "      <td>1</td>\n",
              "      <td>0</td>\n",
              "      <td>4</td>\n",
              "      <td>0.0</td>\n",
              "      <td>5.0</td>\n",
              "      <td>1010</td>\n",
              "      <td>78.27</td>\n",
              "      <td>0.482</td>\n",
              "      <td>347.9</td>\n",
              "      <td>3.2</td>\n",
              "      <td>0</td>\n",
              "    </tr>\n",
              "    <tr>\n",
              "      <th>2009-01-01 00:30:00</th>\n",
              "      <td>2009</td>\n",
              "      <td>1</td>\n",
              "      <td>0</td>\n",
              "      <td>4</td>\n",
              "      <td>0.0</td>\n",
              "      <td>4.0</td>\n",
              "      <td>1010</td>\n",
              "      <td>78.27</td>\n",
              "      <td>0.478</td>\n",
              "      <td>347.9</td>\n",
              "      <td>3.1</td>\n",
              "      <td>0</td>\n",
              "    </tr>\n",
              "    <tr>\n",
              "      <th>2009-01-01 00:00:00</th>\n",
              "      <td>2009</td>\n",
              "      <td>1</td>\n",
              "      <td>0</td>\n",
              "      <td>4</td>\n",
              "      <td>0.0</td>\n",
              "      <td>4.0</td>\n",
              "      <td>1010</td>\n",
              "      <td>76.45</td>\n",
              "      <td>0.475</td>\n",
              "      <td>350.0</td>\n",
              "      <td>3.0</td>\n",
              "      <td>0</td>\n",
              "    </tr>\n",
              "  </tbody>\n",
              "</table>\n",
              "</div>\n",
              "      <button class=\"colab-df-convert\" onclick=\"convertToInteractive('df-7f5b2bb3-a629-461a-a063-049975707b35')\"\n",
              "              title=\"Convert this dataframe to an interactive table.\"\n",
              "              style=\"display:none;\">\n",
              "        \n",
              "  <svg xmlns=\"http://www.w3.org/2000/svg\" height=\"24px\"viewBox=\"0 0 24 24\"\n",
              "       width=\"24px\">\n",
              "    <path d=\"M0 0h24v24H0V0z\" fill=\"none\"/>\n",
              "    <path d=\"M18.56 5.44l.94 2.06.94-2.06 2.06-.94-2.06-.94-.94-2.06-.94 2.06-2.06.94zm-11 1L8.5 8.5l.94-2.06 2.06-.94-2.06-.94L8.5 2.5l-.94 2.06-2.06.94zm10 10l.94 2.06.94-2.06 2.06-.94-2.06-.94-.94-2.06-.94 2.06-2.06.94z\"/><path d=\"M17.41 7.96l-1.37-1.37c-.4-.4-.92-.59-1.43-.59-.52 0-1.04.2-1.43.59L10.3 9.45l-7.72 7.72c-.78.78-.78 2.05 0 2.83L4 21.41c.39.39.9.59 1.41.59.51 0 1.02-.2 1.41-.59l7.78-7.78 2.81-2.81c.8-.78.8-2.07 0-2.86zM5.41 20L4 18.59l7.72-7.72 1.47 1.35L5.41 20z\"/>\n",
              "  </svg>\n",
              "      </button>\n",
              "      \n",
              "  <style>\n",
              "    .colab-df-container {\n",
              "      display:flex;\n",
              "      flex-wrap:wrap;\n",
              "      gap: 12px;\n",
              "    }\n",
              "\n",
              "    .colab-df-convert {\n",
              "      background-color: #E8F0FE;\n",
              "      border: none;\n",
              "      border-radius: 50%;\n",
              "      cursor: pointer;\n",
              "      display: none;\n",
              "      fill: #1967D2;\n",
              "      height: 32px;\n",
              "      padding: 0 0 0 0;\n",
              "      width: 32px;\n",
              "    }\n",
              "\n",
              "    .colab-df-convert:hover {\n",
              "      background-color: #E2EBFA;\n",
              "      box-shadow: 0px 1px 2px rgba(60, 64, 67, 0.3), 0px 1px 3px 1px rgba(60, 64, 67, 0.15);\n",
              "      fill: #174EA6;\n",
              "    }\n",
              "\n",
              "    [theme=dark] .colab-df-convert {\n",
              "      background-color: #3B4455;\n",
              "      fill: #D2E3FC;\n",
              "    }\n",
              "\n",
              "    [theme=dark] .colab-df-convert:hover {\n",
              "      background-color: #434B5C;\n",
              "      box-shadow: 0px 1px 3px 1px rgba(0, 0, 0, 0.15);\n",
              "      filter: drop-shadow(0px 1px 2px rgba(0, 0, 0, 0.3));\n",
              "      fill: #FFFFFF;\n",
              "    }\n",
              "  </style>\n",
              "\n",
              "      <script>\n",
              "        const buttonEl =\n",
              "          document.querySelector('#df-7f5b2bb3-a629-461a-a063-049975707b35 button.colab-df-convert');\n",
              "        buttonEl.style.display =\n",
              "          google.colab.kernel.accessAllowed ? 'block' : 'none';\n",
              "\n",
              "        async function convertToInteractive(key) {\n",
              "          const element = document.querySelector('#df-7f5b2bb3-a629-461a-a063-049975707b35');\n",
              "          const dataTable =\n",
              "            await google.colab.kernel.invokeFunction('convertToInteractive',\n",
              "                                                     [key], {});\n",
              "          if (!dataTable) return;\n",
              "\n",
              "          const docLinkHtml = 'Like what you see? Visit the ' +\n",
              "            '<a target=\"_blank\" href=https://colab.research.google.com/notebooks/data_table.ipynb>data table notebook</a>'\n",
              "            + ' to learn more about interactive tables.';\n",
              "          element.innerHTML = '';\n",
              "          dataTable['output_type'] = 'display_data';\n",
              "          await google.colab.output.renderOutput(dataTable, element);\n",
              "          const docLink = document.createElement('div');\n",
              "          docLink.innerHTML = docLinkHtml;\n",
              "          element.appendChild(docLink);\n",
              "        }\n",
              "      </script>\n",
              "    </div>\n",
              "  </div>\n",
              "  "
            ],
            "text/plain": [
              "                     year  month  ...  windspeed  fillflag\n",
              "datetime                          ...                     \n",
              "2009-01-01 00:00:00  2009      1  ...        3.1         0\n",
              "2009-01-01 00:30:00  2009      1  ...        3.1         0\n",
              "2009-01-01 00:00:00  2009      1  ...        3.2         0\n",
              "2009-01-01 00:30:00  2009      1  ...        3.1         0\n",
              "2009-01-01 00:00:00  2009      1  ...        3.0         0\n",
              "\n",
              "[5 rows x 12 columns]"
            ]
          },
          "metadata": {},
          "execution_count": 5
        }
      ]
    },
    {
      "cell_type": "code",
      "source": [
        "df.shape"
      ],
      "metadata": {
        "id": "vuz9Ffmr7fYE",
        "outputId": "932d6cce-b715-4a63-f1e6-c679b70faa11",
        "colab": {
          "base_uri": "https://localhost:8080/"
        }
      },
      "execution_count": null,
      "outputs": [
        {
          "output_type": "execute_result",
          "data": {
            "text/plain": [
              "(175296, 12)"
            ]
          },
          "metadata": {},
          "execution_count": 6
        }
      ]
    },
    {
      "cell_type": "code",
      "source": [
        "df.isnull().sum().sum()"
      ],
      "metadata": {
        "colab": {
          "base_uri": "https://localhost:8080/"
        },
        "id": "wCe0zBmX-rAT",
        "outputId": "42afe938-45d3-4434-e38d-09aa78336ebc"
      },
      "execution_count": null,
      "outputs": [
        {
          "output_type": "execute_result",
          "data": {
            "text/plain": [
              "0"
            ]
          },
          "metadata": {},
          "execution_count": 7
        }
      ]
    },
    {
      "cell_type": "code",
      "source": [
        "df.info()"
      ],
      "metadata": {
        "colab": {
          "base_uri": "https://localhost:8080/"
        },
        "id": "YRjhrksuVD4_",
        "outputId": "556009ca-ca21-4546-b4a8-5902d5f2299f"
      },
      "execution_count": null,
      "outputs": [
        {
          "output_type": "stream",
          "name": "stdout",
          "text": [
            "<class 'pandas.core.frame.DataFrame'>\n",
            "DatetimeIndex: 175296 entries, 2009-01-01 00:00:00 to 2018-12-31 00:30:00\n",
            "Data columns (total 12 columns):\n",
            " #   Column             Non-Null Count   Dtype  \n",
            "---  ------             --------------   -----  \n",
            " 0   year               175296 non-null  int64  \n",
            " 1   month              175296 non-null  int64  \n",
            " 2   clearskyghi        175296 non-null  int64  \n",
            " 3   cloudtype          175296 non-null  int64  \n",
            " 4   dewpoint           175296 non-null  float64\n",
            " 5   temperature        175296 non-null  float64\n",
            " 6   pressure           175296 non-null  int64  \n",
            " 7   relativehumidity   175296 non-null  float64\n",
            " 8   precipitablewater  175296 non-null  float64\n",
            " 9   winddirection      175296 non-null  float64\n",
            " 10  windspeed          175296 non-null  float64\n",
            " 11  fillflag           175296 non-null  int64  \n",
            "dtypes: float64(6), int64(6)\n",
            "memory usage: 17.4 MB\n"
          ]
        }
      ]
    },
    {
      "cell_type": "code",
      "source": [
        "df.describe()"
      ],
      "metadata": {
        "colab": {
          "base_uri": "https://localhost:8080/",
          "height": 364
        },
        "id": "Nvexapa_Wq_R",
        "outputId": "d8288861-acfb-4d52-c3b4-32f2477e4fc9"
      },
      "execution_count": null,
      "outputs": [
        {
          "output_type": "execute_result",
          "data": {
            "text/html": [
              "\n",
              "  <div id=\"df-83b11d80-92c8-451c-aaca-182aa3fd6955\">\n",
              "    <div class=\"colab-df-container\">\n",
              "      <div>\n",
              "<style scoped>\n",
              "    .dataframe tbody tr th:only-of-type {\n",
              "        vertical-align: middle;\n",
              "    }\n",
              "\n",
              "    .dataframe tbody tr th {\n",
              "        vertical-align: top;\n",
              "    }\n",
              "\n",
              "    .dataframe thead th {\n",
              "        text-align: right;\n",
              "    }\n",
              "</style>\n",
              "<table border=\"1\" class=\"dataframe\">\n",
              "  <thead>\n",
              "    <tr style=\"text-align: right;\">\n",
              "      <th></th>\n",
              "      <th>year</th>\n",
              "      <th>month</th>\n",
              "      <th>clearskyghi</th>\n",
              "      <th>cloudtype</th>\n",
              "      <th>dewpoint</th>\n",
              "      <th>temperature</th>\n",
              "      <th>pressure</th>\n",
              "      <th>relativehumidity</th>\n",
              "      <th>precipitablewater</th>\n",
              "      <th>winddirection</th>\n",
              "      <th>windspeed</th>\n",
              "      <th>fillflag</th>\n",
              "    </tr>\n",
              "  </thead>\n",
              "  <tbody>\n",
              "    <tr>\n",
              "      <th>count</th>\n",
              "      <td>175296.000000</td>\n",
              "      <td>175296.000000</td>\n",
              "      <td>175296.000000</td>\n",
              "      <td>175296.000000</td>\n",
              "      <td>175296.000000</td>\n",
              "      <td>175296.000000</td>\n",
              "      <td>175296.000000</td>\n",
              "      <td>175296.000000</td>\n",
              "      <td>175296.000000</td>\n",
              "      <td>175296.000000</td>\n",
              "      <td>175296.000000</td>\n",
              "      <td>175296.000000</td>\n",
              "    </tr>\n",
              "    <tr>\n",
              "      <th>mean</th>\n",
              "      <td>2013.500274</td>\n",
              "      <td>6.523549</td>\n",
              "      <td>254.365490</td>\n",
              "      <td>2.540474</td>\n",
              "      <td>13.564431</td>\n",
              "      <td>18.266769</td>\n",
              "      <td>1003.185230</td>\n",
              "      <td>79.376366</td>\n",
              "      <td>2.903732</td>\n",
              "      <td>188.877796</td>\n",
              "      <td>2.262871</td>\n",
              "      <td>0.740433</td>\n",
              "    </tr>\n",
              "    <tr>\n",
              "      <th>std</th>\n",
              "      <td>2.871908</td>\n",
              "      <td>3.448543</td>\n",
              "      <td>327.705006</td>\n",
              "      <td>3.021879</td>\n",
              "      <td>8.196787</td>\n",
              "      <td>8.943096</td>\n",
              "      <td>5.935749</td>\n",
              "      <td>19.678235</td>\n",
              "      <td>1.546979</td>\n",
              "      <td>99.014733</td>\n",
              "      <td>1.281902</td>\n",
              "      <td>6.575655</td>\n",
              "    </tr>\n",
              "    <tr>\n",
              "      <th>min</th>\n",
              "      <td>2009.000000</td>\n",
              "      <td>1.000000</td>\n",
              "      <td>0.000000</td>\n",
              "      <td>0.000000</td>\n",
              "      <td>-17.000000</td>\n",
              "      <td>-9.000000</td>\n",
              "      <td>970.000000</td>\n",
              "      <td>7.190000</td>\n",
              "      <td>0.122000</td>\n",
              "      <td>0.000000</td>\n",
              "      <td>0.000000</td>\n",
              "      <td>0.000000</td>\n",
              "    </tr>\n",
              "    <tr>\n",
              "      <th>25%</th>\n",
              "      <td>2011.000000</td>\n",
              "      <td>4.000000</td>\n",
              "      <td>0.000000</td>\n",
              "      <td>0.000000</td>\n",
              "      <td>8.000000</td>\n",
              "      <td>12.000000</td>\n",
              "      <td>1000.000000</td>\n",
              "      <td>65.590000</td>\n",
              "      <td>1.534000</td>\n",
              "      <td>97.400000</td>\n",
              "      <td>1.300000</td>\n",
              "      <td>0.000000</td>\n",
              "    </tr>\n",
              "    <tr>\n",
              "      <th>50%</th>\n",
              "      <td>2013.500000</td>\n",
              "      <td>7.000000</td>\n",
              "      <td>0.000000</td>\n",
              "      <td>1.000000</td>\n",
              "      <td>15.000000</td>\n",
              "      <td>20.000000</td>\n",
              "      <td>1000.000000</td>\n",
              "      <td>84.230000</td>\n",
              "      <td>2.866000</td>\n",
              "      <td>200.000000</td>\n",
              "      <td>2.000000</td>\n",
              "      <td>0.000000</td>\n",
              "    </tr>\n",
              "    <tr>\n",
              "      <th>75%</th>\n",
              "      <td>2016.000000</td>\n",
              "      <td>10.000000</td>\n",
              "      <td>535.000000</td>\n",
              "      <td>6.000000</td>\n",
              "      <td>21.000000</td>\n",
              "      <td>25.000000</td>\n",
              "      <td>1010.000000</td>\n",
              "      <td>97.950000</td>\n",
              "      <td>4.223000</td>\n",
              "      <td>272.000000</td>\n",
              "      <td>3.000000</td>\n",
              "      <td>0.000000</td>\n",
              "    </tr>\n",
              "    <tr>\n",
              "      <th>max</th>\n",
              "      <td>2018.000000</td>\n",
              "      <td>12.000000</td>\n",
              "      <td>1063.000000</td>\n",
              "      <td>10.000000</td>\n",
              "      <td>26.900000</td>\n",
              "      <td>40.000000</td>\n",
              "      <td>1024.000000</td>\n",
              "      <td>100.000000</td>\n",
              "      <td>7.700000</td>\n",
              "      <td>360.000000</td>\n",
              "      <td>12.900000</td>\n",
              "      <td>100.000000</td>\n",
              "    </tr>\n",
              "  </tbody>\n",
              "</table>\n",
              "</div>\n",
              "      <button class=\"colab-df-convert\" onclick=\"convertToInteractive('df-83b11d80-92c8-451c-aaca-182aa3fd6955')\"\n",
              "              title=\"Convert this dataframe to an interactive table.\"\n",
              "              style=\"display:none;\">\n",
              "        \n",
              "  <svg xmlns=\"http://www.w3.org/2000/svg\" height=\"24px\"viewBox=\"0 0 24 24\"\n",
              "       width=\"24px\">\n",
              "    <path d=\"M0 0h24v24H0V0z\" fill=\"none\"/>\n",
              "    <path d=\"M18.56 5.44l.94 2.06.94-2.06 2.06-.94-2.06-.94-.94-2.06-.94 2.06-2.06.94zm-11 1L8.5 8.5l.94-2.06 2.06-.94-2.06-.94L8.5 2.5l-.94 2.06-2.06.94zm10 10l.94 2.06.94-2.06 2.06-.94-2.06-.94-.94-2.06-.94 2.06-2.06.94z\"/><path d=\"M17.41 7.96l-1.37-1.37c-.4-.4-.92-.59-1.43-.59-.52 0-1.04.2-1.43.59L10.3 9.45l-7.72 7.72c-.78.78-.78 2.05 0 2.83L4 21.41c.39.39.9.59 1.41.59.51 0 1.02-.2 1.41-.59l7.78-7.78 2.81-2.81c.8-.78.8-2.07 0-2.86zM5.41 20L4 18.59l7.72-7.72 1.47 1.35L5.41 20z\"/>\n",
              "  </svg>\n",
              "      </button>\n",
              "      \n",
              "  <style>\n",
              "    .colab-df-container {\n",
              "      display:flex;\n",
              "      flex-wrap:wrap;\n",
              "      gap: 12px;\n",
              "    }\n",
              "\n",
              "    .colab-df-convert {\n",
              "      background-color: #E8F0FE;\n",
              "      border: none;\n",
              "      border-radius: 50%;\n",
              "      cursor: pointer;\n",
              "      display: none;\n",
              "      fill: #1967D2;\n",
              "      height: 32px;\n",
              "      padding: 0 0 0 0;\n",
              "      width: 32px;\n",
              "    }\n",
              "\n",
              "    .colab-df-convert:hover {\n",
              "      background-color: #E2EBFA;\n",
              "      box-shadow: 0px 1px 2px rgba(60, 64, 67, 0.3), 0px 1px 3px 1px rgba(60, 64, 67, 0.15);\n",
              "      fill: #174EA6;\n",
              "    }\n",
              "\n",
              "    [theme=dark] .colab-df-convert {\n",
              "      background-color: #3B4455;\n",
              "      fill: #D2E3FC;\n",
              "    }\n",
              "\n",
              "    [theme=dark] .colab-df-convert:hover {\n",
              "      background-color: #434B5C;\n",
              "      box-shadow: 0px 1px 3px 1px rgba(0, 0, 0, 0.15);\n",
              "      filter: drop-shadow(0px 1px 2px rgba(0, 0, 0, 0.3));\n",
              "      fill: #FFFFFF;\n",
              "    }\n",
              "  </style>\n",
              "\n",
              "      <script>\n",
              "        const buttonEl =\n",
              "          document.querySelector('#df-83b11d80-92c8-451c-aaca-182aa3fd6955 button.colab-df-convert');\n",
              "        buttonEl.style.display =\n",
              "          google.colab.kernel.accessAllowed ? 'block' : 'none';\n",
              "\n",
              "        async function convertToInteractive(key) {\n",
              "          const element = document.querySelector('#df-83b11d80-92c8-451c-aaca-182aa3fd6955');\n",
              "          const dataTable =\n",
              "            await google.colab.kernel.invokeFunction('convertToInteractive',\n",
              "                                                     [key], {});\n",
              "          if (!dataTable) return;\n",
              "\n",
              "          const docLinkHtml = 'Like what you see? Visit the ' +\n",
              "            '<a target=\"_blank\" href=https://colab.research.google.com/notebooks/data_table.ipynb>data table notebook</a>'\n",
              "            + ' to learn more about interactive tables.';\n",
              "          element.innerHTML = '';\n",
              "          dataTable['output_type'] = 'display_data';\n",
              "          await google.colab.output.renderOutput(dataTable, element);\n",
              "          const docLink = document.createElement('div');\n",
              "          docLink.innerHTML = docLinkHtml;\n",
              "          element.appendChild(docLink);\n",
              "        }\n",
              "      </script>\n",
              "    </div>\n",
              "  </div>\n",
              "  "
            ],
            "text/plain": [
              "                year          month  ...      windspeed       fillflag\n",
              "count  175296.000000  175296.000000  ...  175296.000000  175296.000000\n",
              "mean     2013.500274       6.523549  ...       2.262871       0.740433\n",
              "std         2.871908       3.448543  ...       1.281902       6.575655\n",
              "min      2009.000000       1.000000  ...       0.000000       0.000000\n",
              "25%      2011.000000       4.000000  ...       1.300000       0.000000\n",
              "50%      2013.500000       7.000000  ...       2.000000       0.000000\n",
              "75%      2016.000000      10.000000  ...       3.000000       0.000000\n",
              "max      2018.000000      12.000000  ...      12.900000     100.000000\n",
              "\n",
              "[8 rows x 12 columns]"
            ]
          },
          "metadata": {},
          "execution_count": 9
        }
      ]
    },
    {
      "cell_type": "code",
      "source": [
        "df['clearskyghi']"
      ],
      "metadata": {
        "colab": {
          "base_uri": "https://localhost:8080/"
        },
        "id": "vwmScdUgeRyc",
        "outputId": "82581949-158c-464e-8120-0f88f0e371a0"
      },
      "execution_count": null,
      "outputs": [
        {
          "output_type": "execute_result",
          "data": {
            "text/plain": [
              "datetime\n",
              "2009-01-01 00:00:00      0\n",
              "2009-01-01 00:30:00      0\n",
              "2009-01-01 00:00:00      0\n",
              "2009-01-01 00:30:00      0\n",
              "2009-01-01 00:00:00      0\n",
              "                      ... \n",
              "2018-12-31 00:30:00    168\n",
              "2018-12-31 00:00:00     84\n",
              "2018-12-31 00:30:00     18\n",
              "2018-12-31 00:00:00      0\n",
              "2018-12-31 00:30:00      0\n",
              "Name: clearskyghi, Length: 175296, dtype: int64"
            ]
          },
          "metadata": {},
          "execution_count": 10
        }
      ]
    },
    {
      "cell_type": "code",
      "source": [
        "data1= directory+'/test.csv'\n",
        "filepath= data1\n",
        "df_test = pd.read_csv(filepath)\n",
        "df_test = wrangle(filepath)\n",
        "df_test.head()\n"
      ],
      "metadata": {
        "colab": {
          "base_uri": "https://localhost:8080/",
          "height": 475
        },
        "id": "wQVwjJbT7F-h",
        "outputId": "1b8f6a75-9305-4db5-d5fb-45ed939a06aa"
      },
      "execution_count": null,
      "outputs": [
        {
          "output_type": "execute_result",
          "data": {
            "text/html": [
              "\n",
              "  <div id=\"df-5641db51-e242-4e38-9b7d-540473807f22\">\n",
              "    <div class=\"colab-df-container\">\n",
              "      <div>\n",
              "<style scoped>\n",
              "    .dataframe tbody tr th:only-of-type {\n",
              "        vertical-align: middle;\n",
              "    }\n",
              "\n",
              "    .dataframe tbody tr th {\n",
              "        vertical-align: top;\n",
              "    }\n",
              "\n",
              "    .dataframe thead th {\n",
              "        text-align: right;\n",
              "    }\n",
              "</style>\n",
              "<table border=\"1\" class=\"dataframe\">\n",
              "  <thead>\n",
              "    <tr style=\"text-align: right;\">\n",
              "      <th></th>\n",
              "      <th>year</th>\n",
              "      <th>month</th>\n",
              "      <th>cloudtype</th>\n",
              "      <th>dewpoint</th>\n",
              "      <th>temperature</th>\n",
              "      <th>pressure</th>\n",
              "      <th>relativehumidity</th>\n",
              "      <th>precipitablewater</th>\n",
              "      <th>winddirection</th>\n",
              "      <th>windspeed</th>\n",
              "      <th>fillflag</th>\n",
              "      <th>clearskyghi</th>\n",
              "    </tr>\n",
              "    <tr>\n",
              "      <th>datetime</th>\n",
              "      <th></th>\n",
              "      <th></th>\n",
              "      <th></th>\n",
              "      <th></th>\n",
              "      <th></th>\n",
              "      <th></th>\n",
              "      <th></th>\n",
              "      <th></th>\n",
              "      <th></th>\n",
              "      <th></th>\n",
              "      <th></th>\n",
              "      <th></th>\n",
              "    </tr>\n",
              "  </thead>\n",
              "  <tbody>\n",
              "    <tr>\n",
              "      <th>2019-01-01 00:00:00</th>\n",
              "      <td>2019</td>\n",
              "      <td>1</td>\n",
              "      <td>7</td>\n",
              "      <td>18.4</td>\n",
              "      <td>18.8</td>\n",
              "      <td>1008</td>\n",
              "      <td>97.70</td>\n",
              "      <td>3.5</td>\n",
              "      <td>190</td>\n",
              "      <td>2.3</td>\n",
              "      <td>0</td>\n",
              "      <td>0.0</td>\n",
              "    </tr>\n",
              "    <tr>\n",
              "      <th>2019-01-01 00:30:00</th>\n",
              "      <td>2019</td>\n",
              "      <td>1</td>\n",
              "      <td>3</td>\n",
              "      <td>18.4</td>\n",
              "      <td>18.6</td>\n",
              "      <td>1008</td>\n",
              "      <td>98.92</td>\n",
              "      <td>3.5</td>\n",
              "      <td>187</td>\n",
              "      <td>2.5</td>\n",
              "      <td>0</td>\n",
              "      <td>0.0</td>\n",
              "    </tr>\n",
              "    <tr>\n",
              "      <th>2019-01-01 00:00:00</th>\n",
              "      <td>2019</td>\n",
              "      <td>1</td>\n",
              "      <td>3</td>\n",
              "      <td>18.2</td>\n",
              "      <td>18.5</td>\n",
              "      <td>1008</td>\n",
              "      <td>98.35</td>\n",
              "      <td>3.5</td>\n",
              "      <td>184</td>\n",
              "      <td>2.8</td>\n",
              "      <td>0</td>\n",
              "      <td>0.0</td>\n",
              "    </tr>\n",
              "    <tr>\n",
              "      <th>2019-01-01 00:30:00</th>\n",
              "      <td>2019</td>\n",
              "      <td>1</td>\n",
              "      <td>3</td>\n",
              "      <td>18.2</td>\n",
              "      <td>18.3</td>\n",
              "      <td>1008</td>\n",
              "      <td>99.58</td>\n",
              "      <td>3.5</td>\n",
              "      <td>185</td>\n",
              "      <td>3.0</td>\n",
              "      <td>0</td>\n",
              "      <td>0.0</td>\n",
              "    </tr>\n",
              "    <tr>\n",
              "      <th>2019-01-01 00:00:00</th>\n",
              "      <td>2019</td>\n",
              "      <td>1</td>\n",
              "      <td>0</td>\n",
              "      <td>18.0</td>\n",
              "      <td>18.0</td>\n",
              "      <td>1008</td>\n",
              "      <td>99.71</td>\n",
              "      <td>3.6</td>\n",
              "      <td>186</td>\n",
              "      <td>3.1</td>\n",
              "      <td>0</td>\n",
              "      <td>0.0</td>\n",
              "    </tr>\n",
              "  </tbody>\n",
              "</table>\n",
              "</div>\n",
              "      <button class=\"colab-df-convert\" onclick=\"convertToInteractive('df-5641db51-e242-4e38-9b7d-540473807f22')\"\n",
              "              title=\"Convert this dataframe to an interactive table.\"\n",
              "              style=\"display:none;\">\n",
              "        \n",
              "  <svg xmlns=\"http://www.w3.org/2000/svg\" height=\"24px\"viewBox=\"0 0 24 24\"\n",
              "       width=\"24px\">\n",
              "    <path d=\"M0 0h24v24H0V0z\" fill=\"none\"/>\n",
              "    <path d=\"M18.56 5.44l.94 2.06.94-2.06 2.06-.94-2.06-.94-.94-2.06-.94 2.06-2.06.94zm-11 1L8.5 8.5l.94-2.06 2.06-.94-2.06-.94L8.5 2.5l-.94 2.06-2.06.94zm10 10l.94 2.06.94-2.06 2.06-.94-2.06-.94-.94-2.06-.94 2.06-2.06.94z\"/><path d=\"M17.41 7.96l-1.37-1.37c-.4-.4-.92-.59-1.43-.59-.52 0-1.04.2-1.43.59L10.3 9.45l-7.72 7.72c-.78.78-.78 2.05 0 2.83L4 21.41c.39.39.9.59 1.41.59.51 0 1.02-.2 1.41-.59l7.78-7.78 2.81-2.81c.8-.78.8-2.07 0-2.86zM5.41 20L4 18.59l7.72-7.72 1.47 1.35L5.41 20z\"/>\n",
              "  </svg>\n",
              "      </button>\n",
              "      \n",
              "  <style>\n",
              "    .colab-df-container {\n",
              "      display:flex;\n",
              "      flex-wrap:wrap;\n",
              "      gap: 12px;\n",
              "    }\n",
              "\n",
              "    .colab-df-convert {\n",
              "      background-color: #E8F0FE;\n",
              "      border: none;\n",
              "      border-radius: 50%;\n",
              "      cursor: pointer;\n",
              "      display: none;\n",
              "      fill: #1967D2;\n",
              "      height: 32px;\n",
              "      padding: 0 0 0 0;\n",
              "      width: 32px;\n",
              "    }\n",
              "\n",
              "    .colab-df-convert:hover {\n",
              "      background-color: #E2EBFA;\n",
              "      box-shadow: 0px 1px 2px rgba(60, 64, 67, 0.3), 0px 1px 3px 1px rgba(60, 64, 67, 0.15);\n",
              "      fill: #174EA6;\n",
              "    }\n",
              "\n",
              "    [theme=dark] .colab-df-convert {\n",
              "      background-color: #3B4455;\n",
              "      fill: #D2E3FC;\n",
              "    }\n",
              "\n",
              "    [theme=dark] .colab-df-convert:hover {\n",
              "      background-color: #434B5C;\n",
              "      box-shadow: 0px 1px 3px 1px rgba(0, 0, 0, 0.15);\n",
              "      filter: drop-shadow(0px 1px 2px rgba(0, 0, 0, 0.3));\n",
              "      fill: #FFFFFF;\n",
              "    }\n",
              "  </style>\n",
              "\n",
              "      <script>\n",
              "        const buttonEl =\n",
              "          document.querySelector('#df-5641db51-e242-4e38-9b7d-540473807f22 button.colab-df-convert');\n",
              "        buttonEl.style.display =\n",
              "          google.colab.kernel.accessAllowed ? 'block' : 'none';\n",
              "\n",
              "        async function convertToInteractive(key) {\n",
              "          const element = document.querySelector('#df-5641db51-e242-4e38-9b7d-540473807f22');\n",
              "          const dataTable =\n",
              "            await google.colab.kernel.invokeFunction('convertToInteractive',\n",
              "                                                     [key], {});\n",
              "          if (!dataTable) return;\n",
              "\n",
              "          const docLinkHtml = 'Like what you see? Visit the ' +\n",
              "            '<a target=\"_blank\" href=https://colab.research.google.com/notebooks/data_table.ipynb>data table notebook</a>'\n",
              "            + ' to learn more about interactive tables.';\n",
              "          element.innerHTML = '';\n",
              "          dataTable['output_type'] = 'display_data';\n",
              "          await google.colab.output.renderOutput(dataTable, element);\n",
              "          const docLink = document.createElement('div');\n",
              "          docLink.innerHTML = docLinkHtml;\n",
              "          element.appendChild(docLink);\n",
              "        }\n",
              "      </script>\n",
              "    </div>\n",
              "  </div>\n",
              "  "
            ],
            "text/plain": [
              "                     year  month  cloudtype  ...  windspeed  fillflag  clearskyghi\n",
              "datetime                                     ...                                  \n",
              "2019-01-01 00:00:00  2019      1          7  ...        2.3         0          0.0\n",
              "2019-01-01 00:30:00  2019      1          3  ...        2.5         0          0.0\n",
              "2019-01-01 00:00:00  2019      1          3  ...        2.8         0          0.0\n",
              "2019-01-01 00:30:00  2019      1          3  ...        3.0         0          0.0\n",
              "2019-01-01 00:00:00  2019      1          0  ...        3.1         0          0.0\n",
              "\n",
              "[5 rows x 12 columns]"
            ]
          },
          "metadata": {},
          "execution_count": 11
        }
      ]
    },
    {
      "cell_type": "code",
      "source": [
        "df_test.shape"
      ],
      "metadata": {
        "colab": {
          "base_uri": "https://localhost:8080/"
        },
        "id": "e5ADTg3XrweT",
        "outputId": "cfe60e7e-1904-4e4a-d118-0cdba329e117"
      },
      "execution_count": null,
      "outputs": [
        {
          "output_type": "execute_result",
          "data": {
            "text/plain": [
              "(17520, 12)"
            ]
          },
          "metadata": {},
          "execution_count": 12
        }
      ]
    },
    {
      "cell_type": "markdown",
      "source": [
        "# **II. Split Data**"
      ],
      "metadata": {
        "id": "mv1_9JV0MDxK"
      }
    },
    {
      "cell_type": "markdown",
      "source": [
        "I. The dataset splited into the feature matrix X and the target vector y"
      ],
      "metadata": {
        "id": "8UfGB0ZKMV5X"
      }
    },
    {
      "cell_type": "code",
      "source": [
        "target ='clearskyghi'\n",
        "y = df[target]\n",
        "X = df.drop(columns = target)\n",
        "X.shape"
      ],
      "metadata": {
        "colab": {
          "base_uri": "https://localhost:8080/"
        },
        "id": "SldHwxcEMgc_",
        "outputId": "e394b356-3233-4810-e1af-900d469f2946"
      },
      "execution_count": null,
      "outputs": [
        {
          "output_type": "execute_result",
          "data": {
            "text/plain": [
              "(175296, 11)"
            ]
          },
          "metadata": {},
          "execution_count": 13
        }
      ]
    },
    {
      "cell_type": "markdown",
      "source": [
        "II.The training data set using a randomized split, divide X and y into a training set (X_train, y_train) and a validation set (X_val, y_val).\n",
        "\n"
      ],
      "metadata": {
        "id": "Dh1suF7jNe9s"
      }
    },
    {
      "cell_type": "code",
      "source": [
        "X_train, X_val, y_train, y_val = train_test_split(X,y, test_size = 0.2, random_state = 42)\n",
        "X_val.shape"
      ],
      "metadata": {
        "colab": {
          "base_uri": "https://localhost:8080/"
        },
        "id": "90uDoVIQOGpY",
        "outputId": "1a733407-22bf-4952-89b5-41a9bd4e9a1c"
      },
      "execution_count": null,
      "outputs": [
        {
          "output_type": "execute_result",
          "data": {
            "text/plain": [
              "(35060, 11)"
            ]
          },
          "metadata": {},
          "execution_count": 14
        }
      ]
    },
    {
      "cell_type": "markdown",
      "source": [
        ""
      ],
      "metadata": {
        "id": "xnb4US-qX04a"
      }
    },
    {
      "cell_type": "markdown",
      "source": [
        "### I.Spliting the test data set"
      ],
      "metadata": {
        "id": "icI16-iNXY19"
      }
    },
    {
      "cell_type": "code",
      "source": [
        "target ='clearskyghi'\n",
        "y_test = df_test[target]\n",
        "X_test = df_test.drop(columns = target)\n",
        "X.shape\n"
      ],
      "metadata": {
        "colab": {
          "base_uri": "https://localhost:8080/"
        },
        "id": "A_d-mTbeX15O",
        "outputId": "f2818490-40ff-432e-96d8-b7caeab25002"
      },
      "execution_count": null,
      "outputs": [
        {
          "output_type": "execute_result",
          "data": {
            "text/plain": [
              "(175296, 11)"
            ]
          },
          "metadata": {},
          "execution_count": 15
        }
      ]
    },
    {
      "cell_type": "code",
      "source": [
        "plt.scatter(x= df['clearskyghi'], y= df['temperature'])"
      ],
      "metadata": {
        "colab": {
          "base_uri": "https://localhost:8080/",
          "height": 283
        },
        "id": "uCY2Lpp0wJbp",
        "outputId": "c7c6a972-fcd8-4d8c-806a-36c71a9731d3"
      },
      "execution_count": null,
      "outputs": [
        {
          "output_type": "execute_result",
          "data": {
            "text/plain": [
              "<matplotlib.collections.PathCollection at 0x7f8ef9ad6190>"
            ]
          },
          "metadata": {},
          "execution_count": 16
        },
        {
          "output_type": "display_data",
          "data": {
            "image/png": "[encoded data removed]",
            "text/plain": [
              "<Figure size 432x288 with 1 Axes>"
            ]
          },
          "metadata": {
            "needs_background": "light"
          }
        }
      ]
    },
    {
      "cell_type": "code",
      "source": [
        ""
      ],
      "metadata": {
        "id": "FqS_w8r17ZLJ"
      },
      "execution_count": null,
      "outputs": []
    },
    {
      "cell_type": "markdown",
      "source": [
        "# III. Establish Baseline\n",
        "\n"
      ],
      "metadata": {
        "id": "iQusxcJUP6lE"
      }
    },
    {
      "cell_type": "markdown",
      "source": [
        "Since this is a regression problem, need to find the baseline mean absolute error for your model."
      ],
      "metadata": {
        "id": "K-HSHLPoQU-s"
      }
    },
    {
      "cell_type": "code",
      "source": [
        "Mean =y_train.mean()\n",
        "y_pred = [y_train.mean()] * len(y_train)\n",
        "baseline_mae = mean_absolute_error(y_train,y_pred )\n",
        "print('Mean:', Mean)\n",
        "print('Baseline MAE:', baseline_mae)\n"
      ],
      "metadata": {
        "colab": {
          "base_uri": "https://localhost:8080/"
        },
        "id": "TaFAFJuNQrBS",
        "outputId": "4cb941f0-1eef-4f63-9a30-08ef78176c4b"
      },
      "execution_count": null,
      "outputs": [
        {
          "output_type": "stream",
          "name": "stdout",
          "text": [
            "Mean: 254.11781568213584\n",
            "Baseline MAE: 289.18573524033707\n"
          ]
        }
      ]
    },
    {
      "cell_type": "markdown",
      "source": [
        "# IV. Build Models\n",
        "\n",
        "Build and train model. \n",
        "\n",
        "Build a Pipeline named model, and fit it to your training data. Pipeline include:\n",
        "\n",
        "an OrdinalEncoder transformer for categorical features.\n",
        "\n",
        "a SimpleImputer transformer fot missing values.\n",
        "\n",
        "\n"
      ],
      "metadata": {
        "id": "clKXCntbk-pB"
      }
    },
    {
      "cell_type": "code",
      "source": [
        "#model_lr = LinearRegression()\n",
        "#model_r = Ridge()\n",
        "#model_rf = RandomForestRegressor(n_jobs=-1, random_state=42\n",
        "#model_xgb = XGBRegressor(random_state=42, n_jobs=-1)\n"
      ],
      "metadata": {
        "id": "VDrRES2cqzdT"
      },
      "execution_count": null,
      "outputs": []
    },
    {
      "cell_type": "code",
      "source": [
        "model_lr = make_pipeline(OrdinalEncoder(),\n",
        "                           SimpleImputer(),\n",
        "                           StandardScaler(), \n",
        "                      LinearRegression())\n",
        "model_lr.fit(X_train, y_train)"
      ],
      "metadata": {
        "colab": {
          "base_uri": "https://localhost:8080/"
        },
        "id": "Ij36U2p-aFjL",
        "outputId": "25c169d4-83bb-4e8e-d85e-ad4649a4de40"
      },
      "execution_count": null,
      "outputs": [
        {
          "output_type": "execute_result",
          "data": {
            "text/plain": [
              "Pipeline(steps=[('ordinalencoder', OrdinalEncoder(cols=[], mapping=[])),\n",
              "                ('simpleimputer', SimpleImputer()),\n",
              "                ('standardscaler', StandardScaler()),\n",
              "                ('linearregression', LinearRegression())])"
            ]
          },
          "metadata": {},
          "execution_count": 19
        }
      ]
    },
    {
      "cell_type": "code",
      "source": [
        "model_r = Ridge(alpha = 1.0)\n",
        "model_r.fit(X_train,y_train)"
      ],
      "metadata": {
        "colab": {
          "base_uri": "https://localhost:8080/"
        },
        "id": "GQxWeI9DrBRg",
        "outputId": "33a575d8-ab74-436f-ddc7-1afb9f09d806"
      },
      "execution_count": null,
      "outputs": [
        {
          "output_type": "execute_result",
          "data": {
            "text/plain": [
              "Ridge()"
            ]
          },
          "metadata": {},
          "execution_count": 20
        }
      ]
    },
    {
      "cell_type": "code",
      "source": [
        "model_rf = make_pipeline(OrdinalEncoder(),\n",
        "                           SimpleImputer(),\n",
        "                           StandardScaler(), \n",
        "                      RandomForestRegressor(n_jobs=-1,n_estimators=25,max_depth= 25, random_state=42))\n",
        "model_rf.fit(X_train, y_train)"
      ],
      "metadata": {
        "colab": {
          "base_uri": "https://localhost:8080/"
        },
        "id": "OZHldXILQVW8",
        "outputId": "d8a21225-a54c-46a2-fafc-5b44704fa58f"
      },
      "execution_count": null,
      "outputs": [
        {
          "output_type": "execute_result",
          "data": {
            "text/plain": [
              "Pipeline(steps=[('ordinalencoder', OrdinalEncoder(cols=[], mapping=[])),\n",
              "                ('simpleimputer', SimpleImputer()),\n",
              "                ('standardscaler', StandardScaler()),\n",
              "                ('randomforestregressor',\n",
              "                 RandomForestRegressor(max_depth=25, n_estimators=25, n_jobs=-1,\n",
              "                                       random_state=42))])"
            ]
          },
          "metadata": {},
          "execution_count": 21
        }
      ]
    },
    {
      "cell_type": "code",
      "source": [
        "model_xgb = make_pipeline(OrdinalEncoder(),\n",
        "                           SimpleImputer(),\n",
        "                           StandardScaler(), \n",
        "                           XGBRegressor(random_state=42, n_jobs=-1))\n",
        "model_xgb.fit(X_train, y_train);"
      ],
      "metadata": {
        "colab": {
          "base_uri": "https://localhost:8080/"
        },
        "id": "PdicdPTSIzTd",
        "outputId": "1c418eb5-8da8-4016-89c7-c09547df485a"
      },
      "execution_count": null,
      "outputs": [
        {
          "output_type": "stream",
          "name": "stdout",
          "text": [
            "[14:46:53] WARNING: /workspace/src/objective/regression_obj.cu:152: reg:linear is now deprecated in favor of reg:squarederror.\n"
          ]
        }
      ]
    },
    {
      "cell_type": "markdown",
      "source": [
        "# V. Check Metrics"
      ],
      "metadata": {
        "id": "7FPTzT0DuyET"
      }
    },
    {
      "cell_type": "code",
      "source": [
        "# Linear Regression\n",
        "training_lr = mean_absolute_error(y_train, model_lr.predict(X_train))\n",
        "val_lr = mean_absolute_error(y_val, model_lr.predict(X_val))\n",
        "\n",
        "print('Training MAE:', training_lr)\n",
        "print('Validation MAE:', val_lr)"
      ],
      "metadata": {
        "colab": {
          "base_uri": "https://localhost:8080/"
        },
        "id": "GeuYuwtmgAhH",
        "outputId": "fe355bde-51db-4e58-e28b-9eafd9dbc6c9"
      },
      "execution_count": null,
      "outputs": [
        {
          "output_type": "stream",
          "name": "stdout",
          "text": [
            "Training MAE: 160.7409364376212\n",
            "Validation MAE: 160.7818937523883\n"
          ]
        }
      ]
    },
    {
      "cell_type": "code",
      "source": [
        "training_r = mean_absolute_error(y_train, model_r.predict(X_train))\n",
        "val_r = mean_absolute_error(y_val, model_r.predict(X_val))\n",
        "print('Training MAE:', training_r)\n",
        "print('Validation MAE:', val_r)"
      ],
      "metadata": {
        "colab": {
          "base_uri": "https://localhost:8080/"
        },
        "id": "6YSf9PDqtoTO",
        "outputId": "13d50b72-5c29-44e0-966d-bd3d25fd623e"
      },
      "execution_count": null,
      "outputs": [
        {
          "output_type": "stream",
          "name": "stdout",
          "text": [
            "Training MAE: 160.74094058404523\n",
            "Validation MAE: 160.78189596315403\n"
          ]
        }
      ]
    },
    {
      "cell_type": "code",
      "source": [
        "training_rf = mean_absolute_error(y_train, model_rf.predict(X_train))\n",
        "val_rf = mean_absolute_error(y_val, model_rf.predict(X_val))\n",
        "print('Training MAE:', training_rf)\n",
        "print('Validation MAE:', val_rf)"
      ],
      "metadata": {
        "colab": {
          "base_uri": "https://localhost:8080/"
        },
        "id": "RaVJKbucQn7I",
        "outputId": "bca8e0ea-f4f0-401a-f0d7-217505f87f58"
      },
      "execution_count": null,
      "outputs": [
        {
          "output_type": "stream",
          "name": "stdout",
          "text": [
            "Training MAE: 25.034998422402666\n",
            "Validation MAE: 65.16344515266874\n"
          ]
        }
      ]
    },
    {
      "cell_type": "code",
      "source": [
        "training_xgb = mean_absolute_error(y_train, model_xgb.predict(X_train))\n",
        "val_xgb = mean_absolute_error(y_val, model_xgb.predict(X_val))\n",
        "print('Training MAE:', training_xgb)\n",
        "print('Validation MAE:', val_xgb)"
      ],
      "metadata": {
        "colab": {
          "base_uri": "https://localhost:8080/"
        },
        "id": "LFUE4X1EJDlX",
        "outputId": "34117517-b3d5-4a5b-bbeb-6156825b62cb"
      },
      "execution_count": null,
      "outputs": [
        {
          "output_type": "stream",
          "name": "stdout",
          "text": [
            "Training MAE: 119.76256574026804\n",
            "Validation MAE: 120.57408930832956\n"
          ]
        }
      ]
    },
    {
      "cell_type": "code",
      "source": [
        "# Caculate R^2 score\n",
        "print('Training R^2:',model_lr.score(X_train, y_train))"
      ],
      "metadata": {
        "colab": {
          "base_uri": "https://localhost:8080/"
        },
        "id": "Ce6BKj19rtMg",
        "outputId": "e5f75b41-7565-4fc7-ba0b-2afd5ee437a0"
      },
      "execution_count": null,
      "outputs": [
        {
          "output_type": "stream",
          "name": "stdout",
          "text": [
            "Training R^2: 0.6035626763183035\n"
          ]
        }
      ]
    },
    {
      "cell_type": "code",
      "source": [
        "print('Training R^2:',model_r.score(X_train, y_train))"
      ],
      "metadata": {
        "colab": {
          "base_uri": "https://localhost:8080/"
        },
        "id": "7m3zyflOtRX1",
        "outputId": "9947e829-ef44-4f7d-83f9-21169e040b29"
      },
      "execution_count": null,
      "outputs": [
        {
          "output_type": "stream",
          "name": "stdout",
          "text": [
            "Training R^2: 0.6035626763165236\n"
          ]
        }
      ]
    },
    {
      "cell_type": "code",
      "source": [
        "print('Training R^2:',model_rf.score(X_train, y_train))"
      ],
      "metadata": {
        "colab": {
          "base_uri": "https://localhost:8080/"
        },
        "id": "1VbMe3SNRE4k",
        "outputId": "956e0768-9b30-42a7-d1ac-e2c5950b2f0e"
      },
      "execution_count": null,
      "outputs": [
        {
          "output_type": "stream",
          "name": "stdout",
          "text": [
            "Training R^2: 0.9829669593911612\n"
          ]
        }
      ]
    },
    {
      "cell_type": "code",
      "source": [
        "print('Validation R^2:', model_rf.score(X_val, y_val))"
      ],
      "metadata": {
        "colab": {
          "base_uri": "https://localhost:8080/"
        },
        "id": "pT1djE2a0wiY",
        "outputId": "269de3e4-83c9-4b1b-b50c-cc3232384081"
      },
      "execution_count": null,
      "outputs": [
        {
          "output_type": "stream",
          "name": "stdout",
          "text": [
            "Validation R^2: 0.8935871606500266\n"
          ]
        }
      ]
    },
    {
      "cell_type": "code",
      "source": [
        "print('Training R^2:',model_xgb.score(X_train, y_train))"
      ],
      "metadata": {
        "colab": {
          "base_uri": "https://localhost:8080/"
        },
        "id": "XWdAvq6RIcJN",
        "outputId": "a98ab18b-9213-4664-dabe-166709ba6b4c"
      },
      "execution_count": null,
      "outputs": [
        {
          "output_type": "stream",
          "name": "stdout",
          "text": [
            "Training R^2: 0.7348531321145797\n"
          ]
        }
      ]
    },
    {
      "cell_type": "code",
      "source": [
        "print('Validation R^2:', model_xgb.score(X_val, y_val))"
      ],
      "metadata": {
        "colab": {
          "base_uri": "https://localhost:8080/"
        },
        "id": "xD7Y1w2j0-B2",
        "outputId": "57617c61-ceed-466c-cbe2-51cfcc0eb7bf"
      },
      "execution_count": null,
      "outputs": [
        {
          "output_type": "stream",
          "name": "stdout",
          "text": [
            "Validation R^2: 0.7312685739846622\n"
          ]
        }
      ]
    },
    {
      "cell_type": "code",
      "source": [
        "print('Validation R^2:', model_lr.score(X_val, y_val))"
      ],
      "metadata": {
        "colab": {
          "base_uri": "https://localhost:8080/"
        },
        "id": "G5oNQuzwdK70",
        "outputId": "a234e4d1-b40b-4972-80e3-44069d618d42"
      },
      "execution_count": null,
      "outputs": [
        {
          "output_type": "stream",
          "name": "stdout",
          "text": [
            "Validation R^2: 0.6035289373124623\n"
          ]
        }
      ]
    },
    {
      "cell_type": "markdown",
      "source": [
        "# VI. Communicating Results\n",
        "\n"
      ],
      "metadata": {
        "id": "VwrGjBZDCYLZ"
      }
    },
    {
      "cell_type": "code",
      "source": [
        "import calendar\n",
        "def month_toname(num):\n",
        "  return calendar.month_name[num]"
      ],
      "metadata": {
        "id": "A_rhVvkzgH1Z"
      },
      "execution_count": null,
      "outputs": []
    },
    {
      "cell_type": "code",
      "source": [
        "import calendar\n",
        "list(calendar.month_name)\n",
        "year_2018 = df[df['year']==2018]\n",
        "fig,ax = plt.subplots()\n",
        "year_2018['month']= year_2018['month'].apply(month_toname)\n",
        "#ax.bar(year_2018.groupby('month').sum()['clearskyghi'].sort_values(ascending=False))\n",
        "\n",
        "year_2018.groupby('month').sum()['clearskyghi'].sort_values(ascending=False).plot(kind='bar')"
      ],
      "metadata": {
        "colab": {
          "base_uri": "https://localhost:8080/",
          "height": 342
        },
        "id": "Jqmqdc-tjESn",
        "outputId": "29b0ca53-8753-4abf-803e-07feb298d88e"
      },
      "execution_count": null,
      "outputs": [
        {
          "output_type": "execute_result",
          "data": {
            "text/plain": [
              "<matplotlib.axes._subplots.AxesSubplot at 0x7f8ef655ead0>"
            ]
          },
          "metadata": {},
          "execution_count": 35
        },
        {
          "output_type": "display_data",
          "data": {
            "image/png": "[encoded data removed]",
            "text/plain": [
              "<Figure size 432x288 with 1 Axes>"
            ]
          },
          "metadata": {
            "needs_background": "light"
          }
        }
      ]
    },
    {
      "cell_type": "code",
      "source": [
        "year_2018"
      ],
      "metadata": {
        "colab": {
          "base_uri": "https://localhost:8080/",
          "height": 866
        },
        "id": "_abel4c3fYBo",
        "outputId": "b0d7b36d-783e-436d-abdb-55e5abc029c5"
      },
      "execution_count": null,
      "outputs": [
        {
          "output_type": "execute_result",
          "data": {
            "text/html": [
              "\n",
              "  <div id=\"df-ab8c37cc-74dc-4bc0-8668-204e91dcf9e5\">\n",
              "    <div class=\"colab-df-container\">\n",
              "      <div>\n",
              "<style scoped>\n",
              "    .dataframe tbody tr th:only-of-type {\n",
              "        vertical-align: middle;\n",
              "    }\n",
              "\n",
              "    .dataframe tbody tr th {\n",
              "        vertical-align: top;\n",
              "    }\n",
              "\n",
              "    .dataframe thead th {\n",
              "        text-align: right;\n",
              "    }\n",
              "</style>\n",
              "<table border=\"1\" class=\"dataframe\">\n",
              "  <thead>\n",
              "    <tr style=\"text-align: right;\">\n",
              "      <th></th>\n",
              "      <th>year</th>\n",
              "      <th>month</th>\n",
              "      <th>clearskyghi</th>\n",
              "      <th>cloudtype</th>\n",
              "      <th>dewpoint</th>\n",
              "      <th>temperature</th>\n",
              "      <th>pressure</th>\n",
              "      <th>relativehumidity</th>\n",
              "      <th>precipitablewater</th>\n",
              "      <th>winddirection</th>\n",
              "      <th>windspeed</th>\n",
              "      <th>fillflag</th>\n",
              "    </tr>\n",
              "    <tr>\n",
              "      <th>datetime</th>\n",
              "      <th></th>\n",
              "      <th></th>\n",
              "      <th></th>\n",
              "      <th></th>\n",
              "      <th></th>\n",
              "      <th></th>\n",
              "      <th></th>\n",
              "      <th></th>\n",
              "      <th></th>\n",
              "      <th></th>\n",
              "      <th></th>\n",
              "      <th></th>\n",
              "    </tr>\n",
              "  </thead>\n",
              "  <tbody>\n",
              "    <tr>\n",
              "      <th>2018-01-01 00:00:00</th>\n",
              "      <td>2018</td>\n",
              "      <td>January</td>\n",
              "      <td>0</td>\n",
              "      <td>4</td>\n",
              "      <td>1.7</td>\n",
              "      <td>3.3</td>\n",
              "      <td>1013</td>\n",
              "      <td>88.94</td>\n",
              "      <td>1.8</td>\n",
              "      <td>345.0</td>\n",
              "      <td>2.8</td>\n",
              "      <td>0</td>\n",
              "    </tr>\n",
              "    <tr>\n",
              "      <th>2018-01-01 00:30:00</th>\n",
              "      <td>2018</td>\n",
              "      <td>January</td>\n",
              "      <td>0</td>\n",
              "      <td>2</td>\n",
              "      <td>1.7</td>\n",
              "      <td>3.1</td>\n",
              "      <td>1013</td>\n",
              "      <td>90.20</td>\n",
              "      <td>1.8</td>\n",
              "      <td>347.0</td>\n",
              "      <td>2.8</td>\n",
              "      <td>0</td>\n",
              "    </tr>\n",
              "    <tr>\n",
              "      <th>2018-01-01 00:00:00</th>\n",
              "      <td>2018</td>\n",
              "      <td>January</td>\n",
              "      <td>0</td>\n",
              "      <td>0</td>\n",
              "      <td>1.1</td>\n",
              "      <td>2.9</td>\n",
              "      <td>1013</td>\n",
              "      <td>88.22</td>\n",
              "      <td>1.7</td>\n",
              "      <td>349.0</td>\n",
              "      <td>2.9</td>\n",
              "      <td>0</td>\n",
              "    </tr>\n",
              "    <tr>\n",
              "      <th>2018-01-01 00:30:00</th>\n",
              "      <td>2018</td>\n",
              "      <td>January</td>\n",
              "      <td>0</td>\n",
              "      <td>2</td>\n",
              "      <td>1.1</td>\n",
              "      <td>2.7</td>\n",
              "      <td>1013</td>\n",
              "      <td>89.48</td>\n",
              "      <td>1.7</td>\n",
              "      <td>351.0</td>\n",
              "      <td>2.9</td>\n",
              "      <td>0</td>\n",
              "    </tr>\n",
              "    <tr>\n",
              "      <th>2018-01-01 00:00:00</th>\n",
              "      <td>2018</td>\n",
              "      <td>January</td>\n",
              "      <td>0</td>\n",
              "      <td>2</td>\n",
              "      <td>0.7</td>\n",
              "      <td>2.5</td>\n",
              "      <td>1013</td>\n",
              "      <td>87.75</td>\n",
              "      <td>1.6</td>\n",
              "      <td>353.0</td>\n",
              "      <td>2.8</td>\n",
              "      <td>0</td>\n",
              "    </tr>\n",
              "    <tr>\n",
              "      <th>...</th>\n",
              "      <td>...</td>\n",
              "      <td>...</td>\n",
              "      <td>...</td>\n",
              "      <td>...</td>\n",
              "      <td>...</td>\n",
              "      <td>...</td>\n",
              "      <td>...</td>\n",
              "      <td>...</td>\n",
              "      <td>...</td>\n",
              "      <td>...</td>\n",
              "      <td>...</td>\n",
              "      <td>...</td>\n",
              "    </tr>\n",
              "    <tr>\n",
              "      <th>2018-12-31 00:30:00</th>\n",
              "      <td>2018</td>\n",
              "      <td>December</td>\n",
              "      <td>168</td>\n",
              "      <td>4</td>\n",
              "      <td>19.4</td>\n",
              "      <td>20.8</td>\n",
              "      <td>1008</td>\n",
              "      <td>91.77</td>\n",
              "      <td>3.7</td>\n",
              "      <td>204.0</td>\n",
              "      <td>3.5</td>\n",
              "      <td>100</td>\n",
              "    </tr>\n",
              "    <tr>\n",
              "      <th>2018-12-31 00:00:00</th>\n",
              "      <td>2018</td>\n",
              "      <td>December</td>\n",
              "      <td>84</td>\n",
              "      <td>4</td>\n",
              "      <td>19.1</td>\n",
              "      <td>20.1</td>\n",
              "      <td>1008</td>\n",
              "      <td>93.88</td>\n",
              "      <td>3.8</td>\n",
              "      <td>209.0</td>\n",
              "      <td>3.2</td>\n",
              "      <td>100</td>\n",
              "    </tr>\n",
              "    <tr>\n",
              "      <th>2018-12-31 00:30:00</th>\n",
              "      <td>2018</td>\n",
              "      <td>December</td>\n",
              "      <td>18</td>\n",
              "      <td>7</td>\n",
              "      <td>19.1</td>\n",
              "      <td>19.6</td>\n",
              "      <td>1008</td>\n",
              "      <td>96.83</td>\n",
              "      <td>3.8</td>\n",
              "      <td>208.0</td>\n",
              "      <td>2.6</td>\n",
              "      <td>57</td>\n",
              "    </tr>\n",
              "    <tr>\n",
              "      <th>2018-12-31 00:00:00</th>\n",
              "      <td>2018</td>\n",
              "      <td>December</td>\n",
              "      <td>0</td>\n",
              "      <td>7</td>\n",
              "      <td>18.7</td>\n",
              "      <td>19.2</td>\n",
              "      <td>1009</td>\n",
              "      <td>96.84</td>\n",
              "      <td>3.7</td>\n",
              "      <td>206.0</td>\n",
              "      <td>2.1</td>\n",
              "      <td>0</td>\n",
              "    </tr>\n",
              "    <tr>\n",
              "      <th>2018-12-31 00:30:00</th>\n",
              "      <td>2018</td>\n",
              "      <td>December</td>\n",
              "      <td>0</td>\n",
              "      <td>7</td>\n",
              "      <td>18.7</td>\n",
              "      <td>19.2</td>\n",
              "      <td>1009</td>\n",
              "      <td>96.84</td>\n",
              "      <td>3.7</td>\n",
              "      <td>206.0</td>\n",
              "      <td>2.1</td>\n",
              "      <td>0</td>\n",
              "    </tr>\n",
              "  </tbody>\n",
              "</table>\n",
              "<p>17520 rows × 12 columns</p>\n",
              "</div>\n",
              "      <button class=\"colab-df-convert\" onclick=\"convertToInteractive('df-ab8c37cc-74dc-4bc0-8668-204e91dcf9e5')\"\n",
              "              title=\"Convert this dataframe to an interactive table.\"\n",
              "              style=\"display:none;\">\n",
              "        \n",
              "  <svg xmlns=\"http://www.w3.org/2000/svg\" height=\"24px\"viewBox=\"0 0 24 24\"\n",
              "       width=\"24px\">\n",
              "    <path d=\"M0 0h24v24H0V0z\" fill=\"none\"/>\n",
              "    <path d=\"M18.56 5.44l.94 2.06.94-2.06 2.06-.94-2.06-.94-.94-2.06-.94 2.06-2.06.94zm-11 1L8.5 8.5l.94-2.06 2.06-.94-2.06-.94L8.5 2.5l-.94 2.06-2.06.94zm10 10l.94 2.06.94-2.06 2.06-.94-2.06-.94-.94-2.06-.94 2.06-2.06.94z\"/><path d=\"M17.41 7.96l-1.37-1.37c-.4-.4-.92-.59-1.43-.59-.52 0-1.04.2-1.43.59L10.3 9.45l-7.72 7.72c-.78.78-.78 2.05 0 2.83L4 21.41c.39.39.9.59 1.41.59.51 0 1.02-.2 1.41-.59l7.78-7.78 2.81-2.81c.8-.78.8-2.07 0-2.86zM5.41 20L4 18.59l7.72-7.72 1.47 1.35L5.41 20z\"/>\n",
              "  </svg>\n",
              "      </button>\n",
              "      \n",
              "  <style>\n",
              "    .colab-df-container {\n",
              "      display:flex;\n",
              "      flex-wrap:wrap;\n",
              "      gap: 12px;\n",
              "    }\n",
              "\n",
              "    .colab-df-convert {\n",
              "      background-color: #E8F0FE;\n",
              "      border: none;\n",
              "      border-radius: 50%;\n",
              "      cursor: pointer;\n",
              "      display: none;\n",
              "      fill: #1967D2;\n",
              "      height: 32px;\n",
              "      padding: 0 0 0 0;\n",
              "      width: 32px;\n",
              "    }\n",
              "\n",
              "    .colab-df-convert:hover {\n",
              "      background-color: #E2EBFA;\n",
              "      box-shadow: 0px 1px 2px rgba(60, 64, 67, 0.3), 0px 1px 3px 1px rgba(60, 64, 67, 0.15);\n",
              "      fill: #174EA6;\n",
              "    }\n",
              "\n",
              "    [theme=dark] .colab-df-convert {\n",
              "      background-color: #3B4455;\n",
              "      fill: #D2E3FC;\n",
              "    }\n",
              "\n",
              "    [theme=dark] .colab-df-convert:hover {\n",
              "      background-color: #434B5C;\n",
              "      box-shadow: 0px 1px 3px 1px rgba(0, 0, 0, 0.15);\n",
              "      filter: drop-shadow(0px 1px 2px rgba(0, 0, 0, 0.3));\n",
              "      fill: #FFFFFF;\n",
              "    }\n",
              "  </style>\n",
              "\n",
              "      <script>\n",
              "        const buttonEl =\n",
              "          document.querySelector('#df-ab8c37cc-74dc-4bc0-8668-204e91dcf9e5 button.colab-df-convert');\n",
              "        buttonEl.style.display =\n",
              "          google.colab.kernel.accessAllowed ? 'block' : 'none';\n",
              "\n",
              "        async function convertToInteractive(key) {\n",
              "          const element = document.querySelector('#df-ab8c37cc-74dc-4bc0-8668-204e91dcf9e5');\n",
              "          const dataTable =\n",
              "            await google.colab.kernel.invokeFunction('convertToInteractive',\n",
              "                                                     [key], {});\n",
              "          if (!dataTable) return;\n",
              "\n",
              "          const docLinkHtml = 'Like what you see? Visit the ' +\n",
              "            '<a target=\"_blank\" href=https://colab.research.google.com/notebooks/data_table.ipynb>data table notebook</a>'\n",
              "            + ' to learn more about interactive tables.';\n",
              "          element.innerHTML = '';\n",
              "          dataTable['output_type'] = 'display_data';\n",
              "          await google.colab.output.renderOutput(dataTable, element);\n",
              "          const docLink = document.createElement('div');\n",
              "          docLink.innerHTML = docLinkHtml;\n",
              "          element.appendChild(docLink);\n",
              "        }\n",
              "      </script>\n",
              "    </div>\n",
              "  </div>\n",
              "  "
            ],
            "text/plain": [
              "                     year     month  ...  windspeed  fillflag\n",
              "datetime                             ...                     \n",
              "2018-01-01 00:00:00  2018   January  ...        2.8         0\n",
              "2018-01-01 00:30:00  2018   January  ...        2.8         0\n",
              "2018-01-01 00:00:00  2018   January  ...        2.9         0\n",
              "2018-01-01 00:30:00  2018   January  ...        2.9         0\n",
              "2018-01-01 00:00:00  2018   January  ...        2.8         0\n",
              "...                   ...       ...  ...        ...       ...\n",
              "2018-12-31 00:30:00  2018  December  ...        3.5       100\n",
              "2018-12-31 00:00:00  2018  December  ...        3.2       100\n",
              "2018-12-31 00:30:00  2018  December  ...        2.6        57\n",
              "2018-12-31 00:00:00  2018  December  ...        2.1         0\n",
              "2018-12-31 00:30:00  2018  December  ...        2.1         0\n",
              "\n",
              "[17520 rows x 12 columns]"
            ]
          },
          "metadata": {},
          "execution_count": 38
        }
      ]
    },
    {
      "cell_type": "markdown",
      "source": [
        "# I. Feature Importances"
      ],
      "metadata": {
        "id": "XKc9-zK-qVEB"
      }
    },
    {
      "cell_type": "code",
      "source": [
        "importances = model_xgb.named_steps['xgbregressor'].feature_importances_\n",
        "feature_names =X_train.columns\n",
        "feat_imp= pd.Series(data=importances, index=feature_names).sort_values()\n",
        "feat_imp.tail(10).plot(kind='barh')\n"
      ],
      "metadata": {
        "colab": {
          "base_uri": "https://localhost:8080/",
          "height": 283
        },
        "id": "x9_gCa8oCO5f",
        "outputId": "10be6f47-5c26-4dc1-a7c4-dd0f16ec631c"
      },
      "execution_count": null,
      "outputs": [
        {
          "output_type": "execute_result",
          "data": {
            "text/plain": [
              "<matplotlib.axes._subplots.AxesSubplot at 0x7f8ef61d8450>"
            ]
          },
          "metadata": {},
          "execution_count": 39
        },
        {
          "output_type": "display_data",
          "data": {
            "image/png": "[encoded data removed]",
            "text/plain": [
              "<Figure size 432x288 with 1 Axes>"
            ]
          },
          "metadata": {
            "needs_background": "light"
          }
        }
      ]
    },
    {
      "cell_type": "markdown",
      "source": [
        "## Partial Dependence Plots\n",
        " \n",
        "\n"
      ],
      "metadata": {
        "id": "ifZ0KtlpDHR8"
      }
    },
    {
      "cell_type": "code",
      "source": [
        "perm_imp = permutation_importance(model_xgb, X_val, y_val,random_state=42)\n",
        "perm_imp"
      ],
      "metadata": {
        "colab": {
          "base_uri": "https://localhost:8080/"
        },
        "id": "xxMuEMIeolAm",
        "outputId": "0ab7d460-c431-418a-e2a7-dc14a5da8c02"
      },
      "execution_count": null,
      "outputs": [
        {
          "output_type": "execute_result",
          "data": {
            "text/plain": [
              "{'importances': array([[0.0217971 , 0.02370145, 0.02228607, 0.02231947, 0.02242683],\n",
              "        [0.11059901, 0.11003669, 0.11043364, 0.11011077, 0.11420897],\n",
              "        [0.01710776, 0.01594163, 0.01598584, 0.01624645, 0.01644051],\n",
              "        [0.00625505, 0.00664427, 0.00606813, 0.00661692, 0.00630977],\n",
              "        [0.44712135, 0.44716334, 0.44573882, 0.45544416, 0.44971508],\n",
              "        [0.00472506, 0.00481375, 0.00483828, 0.00505578, 0.00505796],\n",
              "        [0.50917681, 0.51526196, 0.51851259, 0.51156906, 0.51141776],\n",
              "        [0.00252171, 0.00300219, 0.00300566, 0.00241081, 0.00286582],\n",
              "        [0.00283331, 0.00265405, 0.00251025, 0.00270863, 0.00257079],\n",
              "        [0.15577656, 0.15444727, 0.15438808, 0.15187659, 0.15589205],\n",
              "        [0.00621108, 0.00630448, 0.0061484 , 0.00658324, 0.00643865]]),\n",
              " 'importances_mean': array([0.02250618, 0.11107782, 0.01634444, 0.00637883, 0.44903655,\n",
              "        0.00489817, 0.51318763, 0.00276124, 0.00265541, 0.15447611,\n",
              "        0.00633717]),\n",
              " 'importances_std': array([0.00063578, 0.00157908, 0.00042245, 0.0002208 , 0.00345166,\n",
              "        0.00013495, 0.00330142, 0.00024856, 0.000112  , 0.00144652,\n",
              "        0.00015713])}"
            ]
          },
          "metadata": {},
          "execution_count": 40
        }
      ]
    },
    {
      "cell_type": "code",
      "source": [
        "data_perm = {'imp_mean':perm_imp['importances_mean'],\n",
        "             'imp_std':perm_imp['importances_std']}"
      ],
      "metadata": {
        "id": "mav8-AbDpQhE"
      },
      "execution_count": null,
      "outputs": []
    },
    {
      "cell_type": "code",
      "source": [
        "df_xgb = pd.DataFrame(data_perm, index=X_val.columns).sort_values('imp_mean')\n",
        "df_xgb"
      ],
      "metadata": {
        "colab": {
          "base_uri": "https://localhost:8080/",
          "height": 394
        },
        "id": "nZjduPADpY7n",
        "outputId": "e0c5ea36-cb4e-4111-de4b-e26790f92e19"
      },
      "execution_count": null,
      "outputs": [
        {
          "output_type": "execute_result",
          "data": {
            "text/html": [
              "\n",
              "  <div id=\"df-147ad4f7-c5a9-4d3d-a129-4285d87ca134\">\n",
              "    <div class=\"colab-df-container\">\n",
              "      <div>\n",
              "<style scoped>\n",
              "    .dataframe tbody tr th:only-of-type {\n",
              "        vertical-align: middle;\n",
              "    }\n",
              "\n",
              "    .dataframe tbody tr th {\n",
              "        vertical-align: top;\n",
              "    }\n",
              "\n",
              "    .dataframe thead th {\n",
              "        text-align: right;\n",
              "    }\n",
              "</style>\n",
              "<table border=\"1\" class=\"dataframe\">\n",
              "  <thead>\n",
              "    <tr style=\"text-align: right;\">\n",
              "      <th></th>\n",
              "      <th>imp_mean</th>\n",
              "      <th>imp_std</th>\n",
              "    </tr>\n",
              "  </thead>\n",
              "  <tbody>\n",
              "    <tr>\n",
              "      <th>winddirection</th>\n",
              "      <td>0.002655</td>\n",
              "      <td>0.000112</td>\n",
              "    </tr>\n",
              "    <tr>\n",
              "      <th>precipitablewater</th>\n",
              "      <td>0.002761</td>\n",
              "      <td>0.000249</td>\n",
              "    </tr>\n",
              "    <tr>\n",
              "      <th>pressure</th>\n",
              "      <td>0.004898</td>\n",
              "      <td>0.000135</td>\n",
              "    </tr>\n",
              "    <tr>\n",
              "      <th>fillflag</th>\n",
              "      <td>0.006337</td>\n",
              "      <td>0.000157</td>\n",
              "    </tr>\n",
              "    <tr>\n",
              "      <th>dewpoint</th>\n",
              "      <td>0.006379</td>\n",
              "      <td>0.000221</td>\n",
              "    </tr>\n",
              "    <tr>\n",
              "      <th>cloudtype</th>\n",
              "      <td>0.016344</td>\n",
              "      <td>0.000422</td>\n",
              "    </tr>\n",
              "    <tr>\n",
              "      <th>year</th>\n",
              "      <td>0.022506</td>\n",
              "      <td>0.000636</td>\n",
              "    </tr>\n",
              "    <tr>\n",
              "      <th>month</th>\n",
              "      <td>0.111078</td>\n",
              "      <td>0.001579</td>\n",
              "    </tr>\n",
              "    <tr>\n",
              "      <th>windspeed</th>\n",
              "      <td>0.154476</td>\n",
              "      <td>0.001447</td>\n",
              "    </tr>\n",
              "    <tr>\n",
              "      <th>temperature</th>\n",
              "      <td>0.449037</td>\n",
              "      <td>0.003452</td>\n",
              "    </tr>\n",
              "    <tr>\n",
              "      <th>relativehumidity</th>\n",
              "      <td>0.513188</td>\n",
              "      <td>0.003301</td>\n",
              "    </tr>\n",
              "  </tbody>\n",
              "</table>\n",
              "</div>\n",
              "      <button class=\"colab-df-convert\" onclick=\"convertToInteractive('df-147ad4f7-c5a9-4d3d-a129-4285d87ca134')\"\n",
              "              title=\"Convert this dataframe to an interactive table.\"\n",
              "              style=\"display:none;\">\n",
              "        \n",
              "  <svg xmlns=\"http://www.w3.org/2000/svg\" height=\"24px\"viewBox=\"0 0 24 24\"\n",
              "       width=\"24px\">\n",
              "    <path d=\"M0 0h24v24H0V0z\" fill=\"none\"/>\n",
              "    <path d=\"M18.56 5.44l.94 2.06.94-2.06 2.06-.94-2.06-.94-.94-2.06-.94 2.06-2.06.94zm-11 1L8.5 8.5l.94-2.06 2.06-.94-2.06-.94L8.5 2.5l-.94 2.06-2.06.94zm10 10l.94 2.06.94-2.06 2.06-.94-2.06-.94-.94-2.06-.94 2.06-2.06.94z\"/><path d=\"M17.41 7.96l-1.37-1.37c-.4-.4-.92-.59-1.43-.59-.52 0-1.04.2-1.43.59L10.3 9.45l-7.72 7.72c-.78.78-.78 2.05 0 2.83L4 21.41c.39.39.9.59 1.41.59.51 0 1.02-.2 1.41-.59l7.78-7.78 2.81-2.81c.8-.78.8-2.07 0-2.86zM5.41 20L4 18.59l7.72-7.72 1.47 1.35L5.41 20z\"/>\n",
              "  </svg>\n",
              "      </button>\n",
              "      \n",
              "  <style>\n",
              "    .colab-df-container {\n",
              "      display:flex;\n",
              "      flex-wrap:wrap;\n",
              "      gap: 12px;\n",
              "    }\n",
              "\n",
              "    .colab-df-convert {\n",
              "      background-color: #E8F0FE;\n",
              "      border: none;\n",
              "      border-radius: 50%;\n",
              "      cursor: pointer;\n",
              "      display: none;\n",
              "      fill: #1967D2;\n",
              "      height: 32px;\n",
              "      padding: 0 0 0 0;\n",
              "      width: 32px;\n",
              "    }\n",
              "\n",
              "    .colab-df-convert:hover {\n",
              "      background-color: #E2EBFA;\n",
              "      box-shadow: 0px 1px 2px rgba(60, 64, 67, 0.3), 0px 1px 3px 1px rgba(60, 64, 67, 0.15);\n",
              "      fill: #174EA6;\n",
              "    }\n",
              "\n",
              "    [theme=dark] .colab-df-convert {\n",
              "      background-color: #3B4455;\n",
              "      fill: #D2E3FC;\n",
              "    }\n",
              "\n",
              "    [theme=dark] .colab-df-convert:hover {\n",
              "      background-color: #434B5C;\n",
              "      box-shadow: 0px 1px 3px 1px rgba(0, 0, 0, 0.15);\n",
              "      filter: drop-shadow(0px 1px 2px rgba(0, 0, 0, 0.3));\n",
              "      fill: #FFFFFF;\n",
              "    }\n",
              "  </style>\n",
              "\n",
              "      <script>\n",
              "        const buttonEl =\n",
              "          document.querySelector('#df-147ad4f7-c5a9-4d3d-a129-4285d87ca134 button.colab-df-convert');\n",
              "        buttonEl.style.display =\n",
              "          google.colab.kernel.accessAllowed ? 'block' : 'none';\n",
              "\n",
              "        async function convertToInteractive(key) {\n",
              "          const element = document.querySelector('#df-147ad4f7-c5a9-4d3d-a129-4285d87ca134');\n",
              "          const dataTable =\n",
              "            await google.colab.kernel.invokeFunction('convertToInteractive',\n",
              "                                                     [key], {});\n",
              "          if (!dataTable) return;\n",
              "\n",
              "          const docLinkHtml = 'Like what you see? Visit the ' +\n",
              "            '<a target=\"_blank\" href=https://colab.research.google.com/notebooks/data_table.ipynb>data table notebook</a>'\n",
              "            + ' to learn more about interactive tables.';\n",
              "          element.innerHTML = '';\n",
              "          dataTable['output_type'] = 'display_data';\n",
              "          await google.colab.output.renderOutput(dataTable, element);\n",
              "          const docLink = document.createElement('div');\n",
              "          docLink.innerHTML = docLinkHtml;\n",
              "          element.appendChild(docLink);\n",
              "        }\n",
              "      </script>\n",
              "    </div>\n",
              "  </div>\n",
              "  "
            ],
            "text/plain": [
              "                   imp_mean   imp_std\n",
              "winddirection      0.002655  0.000112\n",
              "precipitablewater  0.002761  0.000249\n",
              "pressure           0.004898  0.000135\n",
              "fillflag           0.006337  0.000157\n",
              "dewpoint           0.006379  0.000221\n",
              "cloudtype          0.016344  0.000422\n",
              "year               0.022506  0.000636\n",
              "month              0.111078  0.001579\n",
              "windspeed          0.154476  0.001447\n",
              "temperature        0.449037  0.003452\n",
              "relativehumidity   0.513188  0.003301"
            ]
          },
          "metadata": {},
          "execution_count": 42
        }
      ]
    },
    {
      "cell_type": "code",
      "source": [
        "feature = 'relativehumidity'"
      ],
      "metadata": {
        "id": "q3WBGRUmrSnI"
      },
      "execution_count": null,
      "outputs": []
    },
    {
      "cell_type": "code",
      "source": [
        "isolate= pdp_isolate(\n",
        "    model_xgb,\n",
        "    dataset= X_val, # USE YOUR VALIDATION DATA\n",
        "    model_features=X_val.columns,\n",
        "    feature=feature\n",
        ")"
      ],
      "metadata": {
        "id": "WQZYYgVfra3R"
      },
      "execution_count": null,
      "outputs": []
    },
    {
      "cell_type": "markdown",
      "source": [
        "Cleasky(GHI) depends on relativehumidity."
      ],
      "metadata": {
        "id": "7NCPWZyq2Ao6"
      }
    },
    {
      "cell_type": "code",
      "source": [
        "pdp_plot(isolate, feature_name=feature)"
      ],
      "metadata": {
        "colab": {
          "base_uri": "https://localhost:8080/",
          "height": 705
        },
        "id": "kxgnkKBRrd0_",
        "outputId": "157223f9-2abd-41a5-ce00-99ccdd9f9451"
      },
      "execution_count": null,
      "outputs": [
        {
          "output_type": "execute_result",
          "data": {
            "text/plain": [
              "(<Figure size 1080x684 with 2 Axes>,\n",
              " {'pdp_ax': <matplotlib.axes._subplots.AxesSubplot at 0x7f8ef95a77d0>,\n",
              "  'title_ax': <matplotlib.axes._subplots.AxesSubplot at 0x7f8ef6177e50>})"
            ]
          },
          "metadata": {},
          "execution_count": 45
        },
        {
          "output_type": "stream",
          "name": "stderr",
          "text": [
            "findfont: Font family ['Arial'] not found. Falling back to DejaVu Sans.\n",
            "findfont: Font family ['Arial'] not found. Falling back to DejaVu Sans.\n",
            "findfont: Font family ['Arial'] not found. Falling back to DejaVu Sans.\n",
            "findfont: Font family ['Arial'] not found. Falling back to DejaVu Sans.\n"
          ]
        },
        {
          "output_type": "display_data",
          "data": {
            "image/png": "[encoded data removed]",
            "text/plain": [
              "<Figure size 1080x684 with 2 Axes>"
            ]
          },
          "metadata": {
            "needs_background": "light"
          }
        }
      ]
    }
  ]
}